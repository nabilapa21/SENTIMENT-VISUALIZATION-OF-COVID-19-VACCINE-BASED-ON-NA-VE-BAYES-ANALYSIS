{
 "cells": [
  {
   "cell_type": "code",
   "execution_count": 1,
   "metadata": {},
   "outputs": [
    {
     "data": {
      "text/html": [
       "<div>\n",
       "<style scoped>\n",
       "    .dataframe tbody tr th:only-of-type {\n",
       "        vertical-align: middle;\n",
       "    }\n",
       "\n",
       "    .dataframe tbody tr th {\n",
       "        vertical-align: top;\n",
       "    }\n",
       "\n",
       "    .dataframe thead th {\n",
       "        text-align: right;\n",
       "    }\n",
       "</style>\n",
       "<table border=\"1\" class=\"dataframe\">\n",
       "  <thead>\n",
       "    <tr style=\"text-align: right;\">\n",
       "      <th></th>\n",
       "      <th>tweet_stemmed</th>\n",
       "      <th>label</th>\n",
       "    </tr>\n",
       "  </thead>\n",
       "  <tbody>\n",
       "    <tr>\n",
       "      <th>0</th>\n",
       "      <td>['warga', 'ikut', 'giat', 'kerumun', 'jalan', ...</td>\n",
       "      <td>negatif</td>\n",
       "    </tr>\n",
       "    <tr>\n",
       "      <th>1</th>\n",
       "      <td>['kemenag', 'usul', 'beli', 'vaksin', 'covid',...</td>\n",
       "      <td>positif</td>\n",
       "    </tr>\n",
       "    <tr>\n",
       "      <th>2</th>\n",
       "      <td>['banding', 'vaksin', 'covid']</td>\n",
       "      <td>positif</td>\n",
       "    </tr>\n",
       "    <tr>\n",
       "      <th>3</th>\n",
       "      <td>['indonesia', 'milik', 'infrastruktur', 'sdm',...</td>\n",
       "      <td>positif</td>\n",
       "    </tr>\n",
       "    <tr>\n",
       "      <th>4</th>\n",
       "      <td>['rebut', 'vaksin', 'covid', 'fenomena', 'butu...</td>\n",
       "      <td>positif</td>\n",
       "    </tr>\n",
       "  </tbody>\n",
       "</table>\n",
       "</div>"
      ],
      "text/plain": [
       "                                       tweet_stemmed    label\n",
       "0  ['warga', 'ikut', 'giat', 'kerumun', 'jalan', ...  negatif\n",
       "1  ['kemenag', 'usul', 'beli', 'vaksin', 'covid',...  positif\n",
       "2                     ['banding', 'vaksin', 'covid']  positif\n",
       "3  ['indonesia', 'milik', 'infrastruktur', 'sdm',...  positif\n",
       "4  ['rebut', 'vaksin', 'covid', 'fenomena', 'butu...  positif"
      ]
     },
     "execution_count": 1,
     "metadata": {},
     "output_type": "execute_result"
    }
   ],
   "source": [
    "import pandas as pd\n",
    "import numpy as np\n",
    "from pandas import DataFrame\n",
    "\n",
    "tweet_data = pd.read_csv(\"vaksinsentimen.csv\")\n",
    "data = pd.DataFrame(tweet_data[['tweet_stemmed', 'label']])\n",
    "data.head()"
   ]
  },
  {
   "cell_type": "code",
   "execution_count": 2,
   "metadata": {},
   "outputs": [
    {
     "data": {
      "text/plain": [
       "positif    5885\n",
       "negatif    2954\n",
       "Name: label, dtype: int64"
      ]
     },
     "execution_count": 2,
     "metadata": {},
     "output_type": "execute_result"
    }
   ],
   "source": [
    "data['label'].value_counts()"
   ]
  },
  {
   "cell_type": "code",
   "execution_count": 3,
   "metadata": {},
   "outputs": [
    {
     "data": {
      "text/plain": [
       "<function matplotlib.pyplot.show(*args, **kw)>"
      ]
     },
     "execution_count": 3,
     "metadata": {},
     "output_type": "execute_result"
    },
    {
     "data": {
      "image/png": "[encoded data removed]",
      "text/plain": [
       "<Figure size 216x360 with 1 Axes>"
      ]
     },
     "metadata": {
      "needs_background": "light"
     },
     "output_type": "display_data"
    }
   ],
   "source": [
    "import matplotlib.pyplot as plt\n",
    "\n",
    "_, ax1 = plt.subplots(figsize=(3,5))\n",
    "stars_histogram = data['label'].value_counts().sort_index()\n",
    "stars_histogram.plot(kind='bar', width=0.7, color='purple')\n",
    "plt.xlabel('label')\n",
    "plt.ylabel('jumlah')\n",
    "\n",
    "plt.tight_layout()\n",
    "plt.show"
   ]
  },
  {
   "cell_type": "code",
   "execution_count": 4,
   "metadata": {},
   "outputs": [],
   "source": [
    "from nltk import FreqDist\n",
    "import seaborn as sns\n",
    "\n",
    "def freq_words(x, terms = 30):\n",
    "    all_words = ' '.join([tweet for tweet in x])\n",
    "    all_words = all_words.split()\n",
    "    \n",
    "    fdist = FreqDist(all_words)\n",
    "    words_df = pd.DataFrame({'word': list(fdist.keys()), 'count':list(fdist.values())})\n",
    "    \n",
    "    d = words_df.nlargest(columns=\"count\", n = terms)\n",
    "    plt.figure(figsize=(25,7))\n",
    "    ax = sns.barplot(data=d, x=\"word\", y=\"count\")\n",
    "    ax.set(ylabel='count')\n",
    "    plt.show()"
   ]
  },
  {
   "cell_type": "code",
   "execution_count": 5,
   "metadata": {},
   "outputs": [
    {
     "data": {
      "image/png": "[encoded data removed]",
      "text/plain": [
       "<Figure size 1800x504 with 1 Axes>"
      ]
     },
     "metadata": {
      "needs_background": "light"
     },
     "output_type": "display_data"
    }
   ],
   "source": [
    "freq_words(data['tweet_stemmed'],10)"
   ]
  },
  {
   "cell_type": "code",
   "execution_count": 6,
   "metadata": {},
   "outputs": [
    {
     "name": "stdout",
     "output_type": "stream",
     "text": [
      "  (0, 2411)\t0.07594425144781662\n",
      "  (0, 2252)\t0.4445124508762717\n",
      "  (0, 892)\t0.3356730648907026\n",
      "  (0, 1055)\t0.45056827755169476\n",
      "  (0, 683)\t0.4830251614358999\n",
      "  (0, 789)\t0.38402363020906516\n",
      "  (0, 2447)\t0.3164893636757104\n",
      "  (1, 714)\t0.4400517929980275\n",
      "  (1, 1195)\t0.3638690075865058\n",
      "  (1, 1975)\t0.3351142912929263\n",
      "  (1, 348)\t0.2665611604354944\n",
      "  (1, 429)\t0.0700963009336854\n",
      "  (1, 247)\t0.2851687928676514\n",
      "  (1, 2399)\t0.42778910351265553\n",
      "  (1, 1035)\t0.4658804962184164\n",
      "  (1, 2411)\t0.06568438661277434\n",
      "  (2, 194)\t0.9677908091697851\n",
      "  (2, 429)\t0.18370557006661442\n",
      "  (2, 2411)\t0.17214300221906437\n",
      "  (3, 1767)\t0.243536451120485\n",
      "  (3, 560)\t0.23933405177544606\n",
      "  (3, 1023)\t0.41371882704874385\n",
      "  (3, 358)\t0.2781064651096925\n",
      "  (3, 1907)\t0.34058675004868694\n",
      "  (3, 1427)\t0.422811930138061\n",
      "  :\t:\n",
      "  (8835, 429)\t0.07230597223152017\n",
      "  (8835, 2411)\t0.06775497952396721\n",
      "  (8836, 415)\t0.43941885525622465\n",
      "  (8836, 2117)\t0.6211434839877259\n",
      "  (8836, 2135)\t0.5267837752802047\n",
      "  (8836, 2053)\t0.3577956097297941\n",
      "  (8836, 429)\t0.09106029716289746\n",
      "  (8836, 2411)\t0.08532889302647266\n",
      "  (8837, 1966)\t0.5982233083941272\n",
      "  (8837, 1027)\t0.5092538687343987\n",
      "  (8837, 1764)\t0.439141916162503\n",
      "  (8837, 2454)\t0.4112924141070137\n",
      "  (8837, 429)\t0.10519370167656618\n",
      "  (8837, 2411)\t0.09857273034548904\n",
      "  (8838, 2320)\t0.39956214170224397\n",
      "  (8838, 425)\t0.3958073601892571\n",
      "  (8838, 9)\t0.30062330326491843\n",
      "  (8838, 2187)\t0.2963059760225768\n",
      "  (8838, 2053)\t0.3009974910358939\n",
      "  (8838, 2434)\t0.3958073601892571\n",
      "  (8838, 1676)\t0.2082155564158355\n",
      "  (8838, 733)\t0.2888094843439899\n",
      "  (8838, 1914)\t0.324048903200434\n",
      "  (8838, 429)\t0.07660496728764832\n",
      "  (8838, 2411)\t0.14356678514437193\n"
     ]
    }
   ],
   "source": [
    "from sklearn.feature_extraction.text import TfidfVectorizer\n",
    "tf = TfidfVectorizer(max_features=2500)\n",
    "tf = tf.fit_transform(data['tweet_stemmed'])\n",
    "\n",
    "print(tf)"
   ]
  },
  {
   "cell_type": "code",
   "execution_count": 7,
   "metadata": {},
   "outputs": [
    {
     "data": {
      "text/plain": [
       "TfidfVectorizer()"
      ]
     },
     "execution_count": 7,
     "metadata": {},
     "output_type": "execute_result"
    }
   ],
   "source": [
    "tf = TfidfVectorizer()\n",
    "tf"
   ]
  },
  {
   "cell_type": "code",
   "execution_count": 8,
   "metadata": {},
   "outputs": [],
   "source": [
    "from sklearn.model_selection import train_test_split\n",
    "# X sebagai fitur dan y sebagai target\n",
    "X = data['tweet_stemmed']\n",
    "y = data['label']\n",
    "# Split dataset into training set and test set\n",
    "X_train, X_test, y_train, y_test = train_test_split(X, y, train_size=0.8, random_state=1) "
   ]
  },
  {
   "cell_type": "code",
   "execution_count": 9,
   "metadata": {},
   "outputs": [],
   "source": [
    "x_traintf=tf.fit_transform(X_train)"
   ]
  },
  {
   "cell_type": "code",
   "execution_count": 10,
   "metadata": {},
   "outputs": [
    {
     "data": {
      "text/plain": [
       "7071"
      ]
     },
     "execution_count": 10,
     "metadata": {},
     "output_type": "execute_result"
    }
   ],
   "source": [
    "len(X_train)"
   ]
  },
  {
   "cell_type": "code",
   "execution_count": 11,
   "metadata": {},
   "outputs": [
    {
     "data": {
      "text/plain": [
       "<7071x7871 sparse matrix of type '<class 'numpy.float64'>'\n",
       "\twith 59552 stored elements in Compressed Sparse Row format>"
      ]
     },
     "execution_count": 11,
     "metadata": {},
     "output_type": "execute_result"
    }
   ],
   "source": [
    "x_traintf"
   ]
  },
  {
   "cell_type": "code",
   "execution_count": 12,
   "metadata": {},
   "outputs": [
    {
     "data": {
      "text/plain": [
       "MultinomialNB()"
      ]
     },
     "execution_count": 12,
     "metadata": {},
     "output_type": "execute_result"
    }
   ],
   "source": [
    "from sklearn.naive_bayes import MultinomialNB\n",
    "mnb = MultinomialNB()\n",
    "mnb.fit(x_traintf, y_train) "
   ]
  },
  {
   "cell_type": "code",
   "execution_count": 13,
   "metadata": {},
   "outputs": [],
   "source": [
    "x_testtf=tf.transform(X_test)"
   ]
  },
  {
   "cell_type": "code",
   "execution_count": 14,
   "metadata": {},
   "outputs": [],
   "source": [
    "ypred = mnb.predict(x_testtf)"
   ]
  },
  {
   "cell_type": "code",
   "execution_count": 15,
   "metadata": {},
   "outputs": [
    {
     "data": {
      "text/plain": [
       "array(['positif', 'positif', 'positif', ..., 'negatif', 'positif',\n",
       "       'negatif'], dtype='<U7')"
      ]
     },
     "execution_count": 15,
     "metadata": {},
     "output_type": "execute_result"
    }
   ],
   "source": [
    "ypred"
   ]
  },
  {
   "cell_type": "code",
   "execution_count": 16,
   "metadata": {},
   "outputs": [
    {
     "data": {
      "text/plain": [
       "1768"
      ]
     },
     "execution_count": 16,
     "metadata": {},
     "output_type": "execute_result"
    }
   ],
   "source": [
    "len(y_test)"
   ]
  },
  {
   "cell_type": "code",
   "execution_count": 17,
   "metadata": {},
   "outputs": [],
   "source": [
    "from sklearn.metrics import classification_report\n",
    "from sklearn.metrics import accuracy_score\n",
    "from sklearn.metrics import confusion_matrix"
   ]
  },
  {
   "cell_type": "code",
   "execution_count": 18,
   "metadata": {},
   "outputs": [
    {
     "data": {
      "image/png": "[encoded data removed]",
      "text/plain": [
       "<Figure size 432x288 with 2 Axes>"
      ]
     },
     "metadata": {
      "needs_background": "light"
     },
     "output_type": "display_data"
    }
   ],
   "source": [
    "conf_mat = confusion_matrix(y_test, ypred)\n",
    "class_label= [\"negatif\", \"positive\"]\n",
    "test = pd.DataFrame(conf_mat, index = class_label, columns = class_label)\n",
    "sns.heatmap(test, annot = True,fmt=\"d\")\n",
    "plt.title(\"Confusion Matrix\")\n",
    "plt.xlabel(\"Predicted Label\")\n",
    "plt.ylabel(\"True Label\")\n",
    "plt.show()"
   ]
  },
  {
   "cell_type": "code",
   "execution_count": 19,
   "metadata": {},
   "outputs": [
    {
     "name": "stdout",
     "output_type": "stream",
     "text": [
      "[[ 120  444]\n",
      " [  31 1173]]\n",
      "              precision    recall  f1-score   support\n",
      "\n",
      "     negatif       0.79      0.21      0.34       564\n",
      "     positif       0.73      0.97      0.83      1204\n",
      "\n",
      "    accuracy                           0.73      1768\n",
      "   macro avg       0.76      0.59      0.58      1768\n",
      "weighted avg       0.75      0.73      0.67      1768\n",
      "\n",
      "accuracy score:\n",
      "0.7313348416289592\n"
     ]
    }
   ],
   "source": [
    "#melakukan evaluasi dengan confussin metrics\n",
    "print(confusion_matrix(y_test,ypred))\n",
    "print(classification_report(y_test, ypred))\n",
    "print('accuracy score:')\n",
    "print(accuracy_score(y_test, ypred))"
   ]
  },
  {
   "cell_type": "code",
   "execution_count": null,
   "metadata": {},
   "outputs": [],
   "source": []
  }
 ],
 "metadata": {
  "kernelspec": {
   "display_name": "Python 3",
   "language": "python",
   "name": "python3"
  },
  "language_info": {
   "codemirror_mode": {
    "name": "ipython",
    "version": 3
   },
   "file_extension": ".py",
   "mimetype": "text/x-python",
   "name": "python",
   "nbconvert_exporter": "python",
   "pygments_lexer": "ipython3",
   "version": "3.8.3"
  }
 },
 "nbformat": 4,
 "nbformat_minor": 2
}
